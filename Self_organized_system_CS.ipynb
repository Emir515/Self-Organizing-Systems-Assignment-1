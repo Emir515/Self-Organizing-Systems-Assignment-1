{
 "cells": [
  {
   "cell_type": "code",
   "execution_count": 1,
   "id": "27fd3c9b",
   "metadata": {},
   "outputs": [],
   "source": [
    "import random\n",
    "\n",
    "def initialize_population(orders, stock_length, pop_size=10):\n",
    "    population = []\n",
    "    for _ in range(pop_size):\n",
    "        individual = []\n",
    "        random.shuffle(orders)  # Shuffle orders to create diversity\n",
    "        pattern = []\n",
    "        current_length = 0\n",
    "        for size, quantity in orders:\n",
    "            for _ in range(quantity):\n",
    "                if current_length + size > stock_length:\n",
    "                    individual.append(pattern)  # Add completed roll to individual\n",
    "                    pattern = []  # Start a new roll\n",
    "                    current_length = 0\n",
    "                pattern.append(size)\n",
    "                current_length += size\n",
    "        if pattern:\n",
    "            individual.append(pattern)  # Add last pattern to individual\n",
    "        population.append(individual)\n",
    "    return population\n"
   ]
  },
  {
   "cell_type": "code",
   "execution_count": 2,
   "id": "8f7a74ef",
   "metadata": {},
   "outputs": [],
   "source": [
    "def calculate_fitness(patterns, stock_length):\n",
    "    total_waste = 0\n",
    "    for pattern in patterns:\n",
    "        waste = stock_length - sum(pattern)\n",
    "        if waste >= 0:\n",
    "            total_waste += waste  # Only add valid waste\n",
    "    return total_waste  # Lower waste is better\n"
   ]
  },
  {
   "cell_type": "code",
   "execution_count": 3,
   "id": "700f9c07",
   "metadata": {},
   "outputs": [],
   "source": [
    "def selection(population, stock_length):\n",
    "    fitness_scores = [(individual, calculate_fitness(individual, stock_length)) for individual in population]\n",
    "    fitness_scores.sort(key=lambda x: x[1])\n",
    "    selected = [individual for individual, score in fitness_scores[:len(fitness_scores) // 2]]\n",
    "    return selected\n"
   ]
  },
  {
   "cell_type": "code",
   "execution_count": 4,
   "id": "d142f665",
   "metadata": {},
   "outputs": [],
   "source": [
    "# Crossover\n",
    "def crossover(parent1, parent2):\n",
    "    crossover_point = random.randint(1, len(parent1) - 2)\n",
    "    child1 = parent1[:crossover_point] + parent2[crossover_point:]\n",
    "    child2 = parent2[:crossover_point] + parent1[crossover_point:]\n",
    "    return child1, child2\n",
    "\n",
    "\n",
    "# Mutation\n",
    "def mutate(individual, mutation_rate=0.1):\n",
    "    for pattern in individual:\n",
    "        if random.random() < mutation_rate:\n",
    "            random_size = random.choice([20, 40, 60, 80, 100])  # Example mutation cuts\n",
    "            if sum(pattern) + random_size <= stock_length:\n",
    "                pattern.append(random_size)\n",
    "    return individual\n"
   ]
  },
  {
   "cell_type": "code",
   "execution_count": 5,
   "id": "586303bd",
   "metadata": {},
   "outputs": [],
   "source": [
    "def genetic_algorithm(orders, stock_length, generations=50, pop_size=10, mutation_rate=0.1):\n",
    "    population = initialize_population(orders, stock_length, pop_size)\n",
    "    best_wastes = []\n",
    "\n",
    "    for generation in range(generations):\n",
    "        # Fitness evaluation\n",
    "        fitness_scores = [calculate_fitness(individual, stock_length) for individual in population]\n",
    "        min_waste = min(fitness_scores)\n",
    "        best_wastes.append(min_waste)\n",
    "        print(f\"Generation {generation} - Best Fitness (Least Waste): {min_waste}\")\n",
    "\n",
    "        # Selection\n",
    "        parents = selection(population, stock_length)\n",
    "\n",
    "        # Crossover and Mutation\n",
    "        next_generation = []\n",
    "        while len(next_generation) < pop_size:\n",
    "            parent1, parent2 = random.sample(parents, 2)\n",
    "            child1, child2 = crossover(parent1, parent2)\n",
    "            next_generation.extend([mutate(child1, mutation_rate), mutate(child2, mutation_rate)])\n",
    "\n",
    "        population = next_generation\n",
    "\n",
    "    # Best solution\n",
    "    best_pattern = min(population, key=lambda ind: calculate_fitness(ind, stock_length))\n",
    "    best_fitness = calculate_fitness(best_pattern, stock_length)\n",
    "    return best_pattern, best_fitness\n"
   ]
  },
  {
   "cell_type": "code",
   "execution_count": 6,
   "id": "caa61828",
   "metadata": {},
   "outputs": [],
   "source": [
    "import matplotlib.pyplot as plt\n",
    "\n",
    "def plot_cutting_patterns(best_pattern, stock_length):\n",
    "    plt.figure(figsize=(10, 6))\n",
    "    for i, pattern in enumerate(best_pattern):\n",
    "        current_length = 0\n",
    "        for cut in pattern:\n",
    "            plt.barh(i, cut, left=current_length, color='skyblue', edgecolor='black')\n",
    "            current_length += cut\n",
    "        waste = stock_length - sum(pattern)\n",
    "        if waste > 0:\n",
    "            plt.barh(i, waste, left=current_length, color='salmon', edgecolor='black')\n",
    "    plt.xlabel('Length')\n",
    "    plt.ylabel('Stock Rolls (Patterns)')\n",
    "    plt.title('Cutting Patterns with Waste')\n",
    "    plt.show()\n"
   ]
  },
  {
   "cell_type": "code",
   "execution_count": 7,
   "id": "17125ef3",
   "metadata": {},
   "outputs": [
    {
     "name": "stdout",
     "output_type": "stream",
     "text": [
      "Generation 0 - Best Fitness (Least Waste): 1000\n",
      "Generation 1 - Best Fitness (Least Waste): 700\n",
      "Generation 2 - Best Fitness (Least Waste): 700\n",
      "Generation 3 - Best Fitness (Least Waste): 640\n",
      "Generation 4 - Best Fitness (Least Waste): 480\n",
      "Generation 5 - Best Fitness (Least Waste): 460\n",
      "Generation 6 - Best Fitness (Least Waste): 380\n",
      "Generation 7 - Best Fitness (Least Waste): 240\n",
      "Generation 8 - Best Fitness (Least Waste): 240\n",
      "Generation 9 - Best Fitness (Least Waste): 200\n",
      "Generation 10 - Best Fitness (Least Waste): 140\n",
      "Generation 11 - Best Fitness (Least Waste): 80\n",
      "Generation 12 - Best Fitness (Least Waste): 40\n",
      "Generation 13 - Best Fitness (Least Waste): 20\n",
      "Generation 14 - Best Fitness (Least Waste): 20\n",
      "Generation 15 - Best Fitness (Least Waste): 0\n",
      "Generation 16 - Best Fitness (Least Waste): 0\n",
      "Generation 17 - Best Fitness (Least Waste): 0\n",
      "Generation 18 - Best Fitness (Least Waste): 0\n",
      "Generation 19 - Best Fitness (Least Waste): 0\n",
      "Generation 20 - Best Fitness (Least Waste): 0\n",
      "Generation 21 - Best Fitness (Least Waste): 0\n",
      "Generation 22 - Best Fitness (Least Waste): 0\n",
      "Generation 23 - Best Fitness (Least Waste): 0\n",
      "Generation 24 - Best Fitness (Least Waste): 0\n",
      "Generation 25 - Best Fitness (Least Waste): 0\n",
      "Generation 26 - Best Fitness (Least Waste): 0\n",
      "Generation 27 - Best Fitness (Least Waste): 0\n",
      "Generation 28 - Best Fitness (Least Waste): 0\n",
      "Generation 29 - Best Fitness (Least Waste): 0\n",
      "Generation 30 - Best Fitness (Least Waste): 0\n",
      "Generation 31 - Best Fitness (Least Waste): 0\n",
      "Generation 32 - Best Fitness (Least Waste): 0\n",
      "Generation 33 - Best Fitness (Least Waste): 0\n",
      "Generation 34 - Best Fitness (Least Waste): 0\n",
      "Generation 35 - Best Fitness (Least Waste): 0\n",
      "Generation 36 - Best Fitness (Least Waste): 0\n",
      "Generation 37 - Best Fitness (Least Waste): 0\n",
      "Generation 38 - Best Fitness (Least Waste): 0\n",
      "Generation 39 - Best Fitness (Least Waste): 0\n",
      "Generation 40 - Best Fitness (Least Waste): 0\n",
      "Generation 41 - Best Fitness (Least Waste): 0\n",
      "Generation 42 - Best Fitness (Least Waste): 0\n",
      "Generation 43 - Best Fitness (Least Waste): 0\n",
      "Generation 44 - Best Fitness (Least Waste): 0\n",
      "Generation 45 - Best Fitness (Least Waste): 0\n",
      "Generation 46 - Best Fitness (Least Waste): 0\n",
      "Generation 47 - Best Fitness (Least Waste): 0\n",
      "Generation 48 - Best Fitness (Least Waste): 0\n",
      "Generation 49 - Best Fitness (Least Waste): 0\n",
      "Best Pattern: [[400, 400, 100, 100, 100, 100, 100, 200], [400, 500, 300, 300], [300, 100, 100, 100, 100, 100, 60, 40, 80, 40, 20, 20, 60, 40, 100, 40, 60, 60, 40, 20, 20]]\n",
      "Best Waste: 0\n"
     ]
    },
    {
     "data": {
      "image/png": "[encoded data removed]",
      "text/plain": [
       "<Figure size 1000x600 with 1 Axes>"
      ]
     },
     "metadata": {},
     "output_type": "display_data"
    }
   ],
   "source": [
    "if __name__ == \"__main__\":\n",
    "    orders = [(100, 5), (200, 4), (300, 3), (400, 2), (500, 1)]  # Example orders\n",
    "    stock_length = 1500\n",
    "    best_pattern, best_waste = genetic_algorithm(orders, stock_length)\n",
    "    print(\"Best Pattern:\", best_pattern)\n",
    "    print(\"Best Waste:\", best_waste)\n",
    "    plot_cutting_patterns(best_pattern, stock_length)\n"
   ]
  },
  {
   "cell_type": "code",
   "execution_count": null,
   "id": "76c8cc22",
   "metadata": {},
   "outputs": [],
   "source": []
  }
 ],
 "metadata": {
  "kernelspec": {
   "display_name": "Python 3 (ipykernel)",
   "language": "python",
   "name": "python3"
  },
  "language_info": {
   "codemirror_mode": {
    "name": "ipython",
    "version": 3
   },
   "file_extension": ".py",
   "mimetype": "text/x-python",
   "name": "python",
   "nbconvert_exporter": "python",
   "pygments_lexer": "ipython3",
   "version": "3.9.19"
  }
 },
 "nbformat": 4,
 "nbformat_minor": 5
}
