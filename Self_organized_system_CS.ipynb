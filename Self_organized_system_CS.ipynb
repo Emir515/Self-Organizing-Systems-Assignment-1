{
  "cells": [
    {
      "cell_type": "markdown",
      "source": [
        "# Cutting Stocks Problem"
      ],
      "metadata": {
        "id": "zK8qHS8AmIAu"
      },
      "id": "zK8qHS8AmIAu"
    },
    {
      "cell_type": "markdown",
      "source": [
        "## Crucial Libraries"
      ],
      "metadata": {
        "id": "_H0_PncSmNh9"
      },
      "id": "_H0_PncSmNh9"
    },
    {
      "cell_type": "code",
      "execution_count": 17,
      "id": "bd941ad2",
      "metadata": {
        "id": "bd941ad2"
      },
      "outputs": [],
      "source": [
        "from itertools import combinations\n",
        "import random\n",
        "import numpy as np\n",
        "import matplotlib.pyplot as plt\n",
        "import time\n",
        "import pandas as pd"
      ]
    },
    {
      "cell_type": "markdown",
      "source": [
        "## Seed Creation"
      ],
      "metadata": {
        "id": "Hgh083MZmE-6"
      },
      "id": "Hgh083MZmE-6"
    },
    {
      "cell_type": "code",
      "source": [
        "seed_value = 0  # seed was taken as 0 for cutting stocks problem\n",
        "random.seed(seed_value)\n",
        "np.random.seed(seed_value)"
      ],
      "metadata": {
        "id": "GEPV5kNkPe6P"
      },
      "id": "GEPV5kNkPe6P",
      "execution_count": 18,
      "outputs": []
    },
    {
      "cell_type": "code",
      "execution_count": 19,
      "id": "9921f75e",
      "metadata": {
        "id": "9921f75e"
      },
      "outputs": [],
      "source": [
        "data = {\n",
        "    'stock_length': 40000,\n",
        "    'demand_lengths': [1200, 1500, 800, 1000, 750, 2000, 650, 900, 500, 1300],\n",
        "    'demand_quantities': [20, 30, 15, 25, 10, 18, 22, 17, 35, 12],\n",
        "}\n",
        "\n",
        "# genetic algorithm parameters\n",
        "population_size = 100\n",
        "num_generations = 100\n",
        "mutation_rate = 0.01\n",
        "\n",
        "# Cellular Automata parameters\n",
        "grid_size = (10, 10)\n",
        "num_iterations = 100  # Number of iterations for evolution\n",
        "mutation_probability = 0.03  # Probability of random mutation to maintain diversity\n",
        "reset_probability = 0.05  # Probability to reset underperforming cells\n",
        "\n",
        "# Parameters for Ant Colony Optimization\n",
        "num_ants = 50\n",
        "num_iterations = 100\n",
        "alpha = 1.0  # Influence of pheromone\n",
        "beta = 2.0   # Influence of heuristic (demand ratio to length)\n",
        "evaporation_rate = 0.1  # Rate that pheromone evaporates\n",
        "pheromone_intensity = 1.0  # Pheromone intensity\n"
      ]
    },
    {
      "cell_type": "markdown",
      "source": [
        "## Genetic Algorithms"
      ],
      "metadata": {
        "id": "Kqvnuk1SLiOJ"
      },
      "id": "Kqvnuk1SLiOJ"
    },
    {
      "cell_type": "code",
      "source": [
        "def initialize_population(pop_size, demand_lengths, stock_length):\n",
        "    population = []\n",
        "    for _ in range(pop_size):\n",
        "        individual = [1] * len(demand_lengths)\n",
        "        remaining_length = stock_length - sum(demand_lengths)\n",
        "\n",
        "        if remaining_length < 0:\n",
        "            individual = [0] * len(demand_lengths)\n",
        "        else:\n",
        "            for i, length in enumerate(demand_lengths):\n",
        "                max_count = remaining_length // length\n",
        "                count = random.randint(0, max(1, max_count)) if max_count > 0 else 0\n",
        "                individual[i] += count\n",
        "                remaining_length -= count * length\n",
        "\n",
        "        population.append(individual)\n",
        "    return population\n",
        "\n",
        "def fitness(individual, demand_lengths, demand_quantities, stock_length):\n",
        "    total_used = sum([ind * length for ind, length in zip(individual, demand_lengths)])\n",
        "    if total_used > stock_length:\n",
        "        return -1000\n",
        "\n",
        "    unmet_minimum = sum(1 for ind in individual if ind < 1)\n",
        "    waste = stock_length - total_used\n",
        "    demand_fulfillment = sum(min(ind, demand) for ind, demand in zip(individual, demand_quantities))\n",
        "    penalty = sum(max(ind - demand, 0) for ind, demand in zip(individual, demand_quantities))\n",
        "    fitness_score = demand_fulfillment - 0.1 * waste - 0.5 * penalty - 100 * unmet_minimum\n",
        "    return max(fitness_score, 0)\n",
        "\n",
        "def selection(population, fitness_scores):\n",
        "    min_fitness = min(fitness_scores)\n",
        "    if min_fitness < 0:\n",
        "        fitness_scores = [score - min_fitness + 1 for score in fitness_scores]\n",
        "\n",
        "    total_fitness = sum(fitness_scores)\n",
        "    if total_fitness == 0:\n",
        "        selection_probs = [1 / len(population) for _ in population]\n",
        "    else:\n",
        "        selection_probs = [score / total_fitness for score in fitness_scores]\n",
        "\n",
        "    selected_index = np.random.choice(range(len(population)), p=selection_probs)\n",
        "    return population[selected_index]\n",
        "\n",
        "\n",
        "def crossover(parent1, parent2):\n",
        "    crossover_point = random.randint(1, len(parent1) - 1)\n",
        "    child1 = parent1[:crossover_point] + parent2[crossover_point:]\n",
        "    child2 = parent2[:crossover_point] + parent1[crossover_point:]\n",
        "    return child1, child2\n",
        "\n",
        "def mutate(individual, demand_lengths, stock_length, mutation_rate=0.1):\n",
        "    if random.random() < mutation_rate:\n",
        "        index = random.randint(0, len(individual) - 1)\n",
        "        remaining_length = stock_length - sum([ind * length for ind, length in zip(individual, demand_lengths)])\n",
        "\n",
        "        max_mutation = max(remaining_length // demand_lengths[index] if demand_lengths[index] != 0 else 0, 0)\n",
        "        mutation_value = random.randint(0, max_mutation) if max_mutation > 0 else 0\n",
        "        individual[index] = max(1, individual[index] + mutation_value)\n",
        "\n",
        "def genetic_algorithm(data, pop_size, generations):\n",
        "    demand_lengths = data['demand_lengths']\n",
        "    demand_quantities = data['demand_quantities']\n",
        "    stock_length = data['stock_length']\n",
        "\n",
        "    population = initialize_population(pop_size, demand_lengths, stock_length)\n",
        "\n",
        "    for generation in range(generations):\n",
        "        fitness_scores = [fitness(individual, demand_lengths, demand_quantities, stock_length) for individual in population]\n",
        "        new_population = []\n",
        "        for _ in range(pop_size // 2):\n",
        "            parent1 = selection(population, fitness_scores)\n",
        "            parent2 = selection(population, fitness_scores)\n",
        "            child1, child2 = crossover(parent1, parent2)\n",
        "            mutate(child1, demand_lengths, stock_length=stock_length)\n",
        "            mutate(child2, demand_lengths, stock_length=stock_length)\n",
        "\n",
        "            new_population.extend([child1, child2])\n",
        "\n",
        "        population = new_population\n",
        "\n",
        "    best_individual = max(population, key=lambda ind: fitness(ind, demand_lengths, demand_quantities, stock_length))\n",
        "    best_fitness = fitness(best_individual, demand_lengths, demand_quantities, stock_length)\n",
        "\n",
        "    return best_individual, best_fitness\n",
        "\n",
        "best_solution, best_score = genetic_algorithm(data, population_size, num_generations)\n",
        "\n",
        "print(\"Best Solution:\", best_solution)\n",
        "print(\"Best Score (Demand Fulfillment - Waste):\", best_score)"
      ],
      "metadata": {
        "colab": {
          "base_uri": "https://localhost:8080/"
        },
        "id": "dx2f3T59Lhrs",
        "outputId": "aadf4de0-8d4d-4c0f-feab-551794ca0c10"
      },
      "id": "dx2f3T59Lhrs",
      "execution_count": 24,
      "outputs": [
        {
          "output_type": "stream",
          "name": "stdout",
          "text": [
            "Best Solution: [8, 4, 3, 1, 1, 3, 5, 1, 1, 1]\n",
            "Best Score (Demand Fulfillment - Waste): 0\n"
          ]
        }
      ]
    },
    {
      "cell_type": "markdown",
      "source": [
        "### Genetic Algorithms Experiment"
      ],
      "metadata": {
        "id": "pW79wKq2Un9k"
      },
      "id": "pW79wKq2Un9k"
    },
    {
      "cell_type": "code",
      "source": [
        "pop_sizes = [50, 100, 200]\n",
        "genetic_results = []\n",
        "\n",
        "for pop_size in pop_sizes:\n",
        "    start_time = time.time()\n",
        "    best_solution, best_fitness = genetic_algorithm(data, pop_size, num_generations)\n",
        "    end_time = time.time()\n",
        "    runtime = end_time - start_time\n",
        "    genetic_results.append({\n",
        "        'Population Size': pop_size,\n",
        "        'Runtime (s)': runtime,\n",
        "        'Best Solution': best_solution,\n",
        "        'Best Fitness': best_fitness\n",
        "    })\n",
        "\n",
        "for result in genetic_results:\n",
        "    print(f\"Population Size: {result['Population Size']}, Runtime: {result['Runtime (s)']}s, Best Solution: {result['Best Solution']}, Best Fitness: {result['Best Fitness']}\")\n",
        "\n",
        "pop_size = population_size\n",
        "fitness_over_generations = []\n",
        "fulfillment_over_generations = []\n",
        "waste_over_generations = []\n",
        "\n",
        "population = initialize_population(pop_size, data['demand_lengths'], data['stock_length'])\n",
        "\n",
        "for generation in range(num_generations):\n",
        "    fitness_scores = [fitness(individual, data['demand_lengths'], data['demand_quantities'], data['stock_length']) for individual in population]\n",
        "\n",
        "    best_individual = max(population, key=lambda ind: fitness(ind, data['demand_lengths'], data['demand_quantities'], data['stock_length']))\n",
        "    best_fitness = fitness(best_individual, data['demand_lengths'], data['demand_quantities'], data['stock_length'])\n",
        "    fitness_over_generations.append(best_fitness)\n",
        "\n",
        "    total_used = sum([ind * length for ind, length in zip(best_individual, data['demand_lengths'])])\n",
        "    total_waste = max(0, data['stock_length'] - total_used)\n",
        "    total_fulfillment = [min(best_individual[i], data['demand_quantities'][i]) for i in range(len(data['demand_lengths']))]\n",
        "    fulfillment_over_generations.append(sum(total_fulfillment))\n",
        "    waste_over_generations.append(total_waste)\n",
        "\n",
        "    new_population = []\n",
        "    for _ in range(pop_size // 2):\n",
        "        parent1 = selection(population, fitness_scores)\n",
        "        parent2 = selection(population, fitness_scores)\n",
        "        child1, child2 = crossover(parent1, parent2)\n",
        "        mutate(child1, data['demand_lengths'], data['stock_length'])\n",
        "        mutate(child2, data['demand_lengths'], data['stock_length'])\n",
        "        new_population.extend([child1, child2])\n",
        "    population = new_population\n"
      ],
      "metadata": {
        "id": "IrHIeH9WTSF1",
        "outputId": "3fc6fa72-1e1f-4597-bf05-ed1e61a5af02",
        "colab": {
          "base_uri": "https://localhost:8080/"
        }
      },
      "id": "IrHIeH9WTSF1",
      "execution_count": 25,
      "outputs": [
        {
          "output_type": "stream",
          "name": "stdout",
          "text": [
            "Population Size: 50, Runtime: 0.32035136222839355s, Best Solution: [9, 1, 10, 1, 1, 1, 2, 14, 1, 1], Best Fitness: 16.0\n",
            "Population Size: 100, Runtime: 0.9609725475311279s, Best Solution: [18, 1, 3, 1, 7, 1, 1, 4, 1, 1], Best Fitness: 18.0\n",
            "Population Size: 200, Runtime: 3.7635838985443115s, Best Solution: [2, 3, 2, 7, 7, 5, 1, 1, 2, 5], Best Fitness: 15.0\n"
          ]
        }
      ]
    },
    {
      "cell_type": "markdown",
      "source": [
        "## Cellular Automata"
      ],
      "metadata": {
        "id": "vfFcdHPQOxiR"
      },
      "id": "vfFcdHPQOxiR"
    },
    {
      "cell_type": "code",
      "source": [
        "def initialize_grid(grid_size, demand_lengths, stock_length):\n",
        "    grid = []\n",
        "    for _ in range(grid_size[0]):\n",
        "        row = []\n",
        "        for _ in range(grid_size[1]):\n",
        "            pattern = [1] * len(demand_lengths)\n",
        "            remaining_length = stock_length - sum(demand_lengths)\n",
        "\n",
        "            if remaining_length < 0:\n",
        "                pattern = [0] * len(demand_lengths)\n",
        "            else:\n",
        "                for i, length in enumerate(demand_lengths):\n",
        "                    max_count = remaining_length // length\n",
        "                    count = random.randint(0, max(1, max_count)) if max_count > 0 else 0\n",
        "                    pattern[i] += count\n",
        "                    remaining_length -= count * length\n",
        "\n",
        "            row.append(pattern)\n",
        "        grid.append(row)\n",
        "    return grid\n",
        "\n",
        "def fitness(pattern, demand_lengths, demand_quantities, stock_length):\n",
        "    total_used = sum([p * l for p, l in zip(pattern, demand_lengths)])\n",
        "    if total_used > stock_length:\n",
        "        return -1000\n",
        "    unmet_minimum = sum(1 for p in pattern if p < 1)\n",
        "    waste = max(stock_length - total_used, 0)\n",
        "    demand_fulfillment = sum(min(p, q) for p, q in zip(pattern, demand_quantities))\n",
        "    unmet_penalty = sum(1 for p, q in zip(pattern, demand_quantities) if p < q) * 0.1\n",
        "    return demand_fulfillment - 0.1 * waste - unmet_penalty - 100 * unmet_minimum\n",
        "\n",
        "def mutate(individual, demand_lengths, demand_quantities, stock_length):\n",
        "    index = random.randint(0, len(individual) - 1)\n",
        "    if individual[index] < demand_quantities[index]:\n",
        "        remaining_length = stock_length - sum([ind * length for ind, length in zip(individual, demand_lengths)])\n",
        "        max_add = max(0, remaining_length // demand_lengths[index]) if demand_lengths[index] != 0 else 0\n",
        "        mutation_value = random.randint(0, max_add)\n",
        "        individual[index] = max(1, min(demand_quantities[index], individual[index] + mutation_value))\n",
        "\n",
        "def update_grid(grid, demand_lengths, demand_quantities, stock_length, mutation_probability, reset_probability, iteration, num_iterations):\n",
        "    current_reset_probability = reset_probability * (1 - iteration / num_iterations)\n",
        "    adaptive_mutation_probability = mutation_probability * (1 + 0.1 * (1 - iteration / num_iterations))\n",
        "\n",
        "    new_grid = []\n",
        "    for i, row in enumerate(grid):\n",
        "        new_row = []\n",
        "        for j, cell in enumerate(row):\n",
        "            if random.random() < current_reset_probability:\n",
        "                new_pattern = initialize_grid((1, 1), demand_lengths, stock_length)[0][0]\n",
        "            else:\n",
        "                neighbors = []\n",
        "                for dx, dy in [(-1, 0), (1, 0), (0, -1), (0, 1)]:\n",
        "                    ni, nj = i + dx, j + dy\n",
        "                    if 0 <= ni < len(grid) and 0 <= nj < len(grid[0]):\n",
        "                        neighbors.append(grid[ni][nj])\n",
        "                current_fitness = fitness(cell, demand_lengths, demand_quantities, stock_length)\n",
        "                best_neighbor = max(neighbors, key=lambda n: fitness(n, demand_lengths, demand_quantities, stock_length))\n",
        "                best_neighbor_fitness = fitness(best_neighbor, demand_lengths, demand_quantities, stock_length)\n",
        "\n",
        "                new_pattern = best_neighbor[:] if best_neighbor_fitness > current_fitness else cell[:]\n",
        "                if random.random() < adaptive_mutation_probability:\n",
        "                    mutate(new_pattern, demand_lengths, demand_quantities, stock_length)\n",
        "\n",
        "            new_row.append(new_pattern)\n",
        "        new_grid.append(new_row)\n",
        "    return new_grid\n",
        "\n",
        "\n",
        "def cellular_automata(data, grid_size, num_iterations, mutation_probability, reset_probability):\n",
        "    demand_lengths = data['demand_lengths']\n",
        "    demand_quantities = data['demand_quantities']\n",
        "    stock_length = data['stock_length']\n",
        "    grid = initialize_grid(grid_size, demand_lengths, stock_length)\n",
        "\n",
        "    for iteration in range(num_iterations):\n",
        "        grid = update_grid(grid, demand_lengths, demand_quantities, stock_length, mutation_probability, reset_probability, iteration, num_iterations)\n",
        "\n",
        "    best_patterns = [pattern for row in grid for pattern in row if fitness(pattern, demand_lengths, demand_quantities, stock_length) > 0]\n",
        "    total_fulfillment = [0] * len(demand_lengths)\n",
        "    total_waste = 0\n",
        "    for pattern in best_patterns:\n",
        "        total_used = sum([p * l for p, l in zip(pattern, demand_lengths)])\n",
        "        total_waste += max(0, stock_length - total_used)\n",
        "        for i in range(len(demand_lengths)):\n",
        "            total_fulfillment[i] += min(pattern[i], demand_quantities[i])\n",
        "    total_fulfillment = [min(f, q) for f, q in zip(total_fulfillment, demand_quantities)]\n",
        "\n",
        "    return best_patterns, total_fulfillment, total_waste\n",
        "\n",
        "best_patterns, total_fulfillment_ca, total_waste = cellular_automata(data, grid_size, num_iterations, mutation_probability, reset_probability)\n",
        "\n",
        "print(\"Best Patterns:\", best_patterns)\n",
        "print(\"Total Fulfillment:\", total_fulfillment_ca)\n",
        "print(\"Total Waste:\", total_waste)"
      ],
      "metadata": {
        "colab": {
          "base_uri": "https://localhost:8080/"
        },
        "id": "gyvFvnPtLlsY",
        "outputId": "d1fdc72c-474a-4a8d-966b-f06af203969a"
      },
      "id": "gyvFvnPtLlsY",
      "execution_count": 26,
      "outputs": [
        {
          "output_type": "stream",
          "name": "stdout",
          "text": [
            "Best Patterns: [[6, 4, 6, 7, 7, 1, 5, 1, 2, 2], [6, 4, 6, 7, 7, 1, 5, 1, 2, 2], [6, 4, 6, 7, 7, 1, 5, 1, 2, 2], [6, 4, 6, 7, 7, 1, 5, 1, 2, 2], [6, 4, 6, 7, 7, 1, 5, 1, 2, 2], [6, 4, 6, 7, 7, 1, 5, 1, 2, 2], [6, 4, 6, 7, 7, 1, 5, 1, 2, 2], [6, 4, 6, 7, 7, 1, 5, 1, 2, 2], [6, 4, 6, 7, 7, 1, 5, 1, 2, 2], [6, 4, 6, 7, 7, 1, 5, 1, 2, 2], [6, 4, 6, 7, 7, 1, 5, 1, 2, 2], [6, 4, 6, 7, 7, 1, 5, 1, 2, 2], [6, 4, 6, 7, 7, 1, 5, 1, 2, 2], [6, 4, 6, 7, 7, 1, 5, 1, 2, 2], [6, 4, 6, 7, 7, 1, 5, 1, 2, 2], [6, 4, 6, 7, 7, 1, 5, 1, 2, 2], [6, 4, 6, 7, 7, 1, 5, 1, 2, 2], [6, 4, 6, 7, 7, 1, 5, 1, 2, 2], [6, 4, 6, 7, 7, 1, 5, 1, 2, 2], [6, 4, 6, 7, 7, 1, 5, 1, 2, 2], [6, 4, 6, 7, 7, 1, 5, 1, 2, 2], [6, 4, 6, 7, 7, 1, 5, 1, 2, 2], [6, 4, 6, 7, 7, 1, 5, 1, 2, 2], [6, 4, 6, 7, 7, 1, 5, 1, 2, 2], [6, 4, 6, 7, 7, 1, 5, 1, 2, 2], [6, 4, 6, 7, 7, 1, 5, 1, 2, 2], [6, 4, 6, 7, 7, 1, 5, 1, 2, 2], [6, 4, 6, 7, 7, 1, 5, 1, 2, 2], [6, 4, 6, 7, 7, 1, 5, 1, 2, 2], [6, 4, 6, 7, 7, 1, 5, 1, 2, 2], [6, 4, 6, 7, 7, 1, 5, 1, 2, 2], [6, 4, 6, 7, 7, 1, 5, 1, 2, 2], [6, 4, 6, 7, 7, 1, 5, 1, 2, 2], [6, 4, 6, 7, 7, 1, 5, 1, 2, 2], [6, 4, 6, 7, 7, 1, 5, 1, 2, 2], [6, 4, 6, 7, 7, 1, 5, 1, 2, 2], [6, 4, 6, 7, 7, 1, 5, 1, 2, 2], [6, 4, 6, 7, 7, 1, 5, 1, 2, 2], [6, 4, 6, 7, 7, 1, 5, 1, 2, 2], [6, 4, 6, 7, 7, 1, 5, 1, 2, 2], [6, 4, 6, 7, 7, 1, 5, 1, 2, 2], [6, 4, 6, 7, 7, 1, 5, 1, 2, 2], [6, 4, 6, 7, 7, 1, 5, 1, 2, 2], [6, 4, 6, 7, 7, 1, 5, 1, 2, 2], [6, 4, 6, 7, 7, 1, 5, 1, 2, 2], [6, 4, 6, 7, 7, 1, 5, 1, 2, 2], [6, 4, 6, 7, 7, 1, 5, 1, 2, 2], [6, 4, 6, 7, 7, 1, 5, 1, 2, 2], [6, 4, 6, 7, 7, 1, 5, 1, 2, 2], [6, 4, 6, 7, 7, 1, 5, 1, 2, 2], [6, 4, 6, 7, 7, 1, 5, 1, 2, 2], [6, 4, 6, 7, 7, 1, 5, 1, 2, 2], [6, 4, 6, 7, 7, 1, 5, 1, 2, 2], [6, 4, 6, 7, 7, 1, 5, 1, 2, 2], [6, 4, 6, 7, 7, 1, 5, 1, 2, 2], [6, 4, 6, 7, 7, 1, 5, 1, 2, 2], [6, 4, 6, 7, 7, 1, 5, 1, 2, 2], [6, 4, 6, 7, 7, 1, 5, 1, 2, 2], [6, 4, 6, 7, 7, 1, 5, 1, 2, 2], [6, 4, 6, 7, 7, 1, 5, 1, 2, 2], [6, 4, 6, 7, 7, 1, 5, 1, 2, 2], [6, 4, 6, 7, 7, 1, 5, 1, 2, 2], [6, 4, 6, 7, 7, 1, 5, 1, 2, 2], [6, 4, 6, 7, 7, 1, 5, 1, 2, 2], [6, 4, 6, 7, 7, 1, 5, 1, 2, 2], [6, 4, 6, 7, 7, 1, 5, 1, 2, 2], [6, 4, 6, 7, 7, 1, 5, 1, 2, 2], [6, 4, 6, 7, 7, 1, 5, 1, 2, 2], [6, 4, 6, 7, 7, 1, 5, 1, 2, 2], [6, 4, 6, 7, 7, 1, 5, 1, 2, 2], [6, 4, 6, 7, 7, 1, 5, 1, 2, 2], [6, 4, 6, 7, 7, 1, 5, 1, 2, 2], [6, 4, 6, 7, 7, 1, 5, 1, 2, 2], [6, 4, 6, 7, 7, 1, 5, 1, 2, 2], [6, 4, 6, 7, 7, 1, 5, 1, 2, 2], [6, 4, 6, 7, 7, 1, 5, 1, 2, 2], [6, 4, 6, 7, 7, 1, 5, 1, 2, 2], [6, 4, 6, 7, 7, 1, 5, 1, 2, 2], [6, 4, 6, 7, 7, 1, 5, 1, 2, 2], [6, 4, 6, 7, 7, 1, 5, 1, 2, 2], [6, 4, 6, 7, 7, 1, 5, 1, 2, 2], [6, 4, 6, 7, 7, 1, 5, 1, 2, 2], [6, 4, 6, 7, 7, 1, 5, 1, 2, 2], [6, 4, 6, 7, 7, 1, 5, 1, 2, 2], [6, 4, 6, 7, 7, 1, 5, 1, 2, 2], [6, 4, 6, 7, 7, 1, 5, 1, 2, 2], [6, 4, 6, 7, 7, 1, 5, 1, 2, 2], [6, 4, 6, 7, 7, 1, 5, 1, 2, 2], [6, 4, 6, 7, 7, 1, 5, 1, 2, 2], [6, 4, 6, 7, 7, 1, 5, 1, 2, 2], [6, 4, 6, 7, 7, 1, 5, 1, 2, 2], [6, 4, 6, 7, 7, 1, 5, 1, 2, 2], [6, 4, 6, 7, 7, 1, 5, 1, 2, 2], [6, 4, 6, 7, 7, 1, 5, 1, 2, 2], [6, 4, 6, 7, 7, 1, 5, 1, 2, 2], [6, 4, 6, 7, 7, 1, 5, 1, 2, 2], [6, 4, 6, 7, 7, 1, 5, 1, 2, 2], [6, 4, 6, 7, 7, 1, 5, 1, 2, 2], [6, 4, 6, 7, 7, 1, 5, 1, 2, 2], [6, 4, 6, 7, 7, 1, 5, 1, 2, 2]]\n",
            "Total Fulfillment: [20, 30, 15, 25, 10, 18, 22, 17, 35, 12]\n",
            "Total Waste: 0\n"
          ]
        }
      ]
    },
    {
      "cell_type": "markdown",
      "source": [
        "### Cellular Automata Experiment"
      ],
      "metadata": {
        "id": "He0LW6y6UxDz"
      },
      "id": "He0LW6y6UxDz"
    },
    {
      "cell_type": "code",
      "source": [
        "grid_sizes = [(5, 5), (10, 10), (20, 20)]\n",
        "results = []\n",
        "\n",
        "for size in grid_sizes:\n",
        "    start_time = time.time()\n",
        "    best_patterns, fulfillment, waste = cellular_automata(data, size, num_iterations=100, mutation_probability=0.1, reset_probability=0.05)\n",
        "    end_time = time.time()\n",
        "    runtime = end_time - start_time\n",
        "    results.append({\n",
        "        'Grid Size': size,\n",
        "        'Runtime (s)': runtime,\n",
        "        'Total Fulfillment': fulfillment,\n",
        "        'Total Waste': waste\n",
        "    })\n",
        "\n",
        "for result in results:\n",
        "    print(f\"Grid Size: {result['Grid Size']}, Runtime: {result['Runtime (s)']}s, Total Fulfillment: {result['Total Fulfillment']}, Total Waste: {result['Total Waste']}\")\n",
        "\n",
        "fulfillment_over_time = []\n",
        "waste_over_time = []\n",
        "\n",
        "grid = initialize_grid(grid_size, data['demand_lengths'], data['stock_length'])\n",
        "\n",
        "for iteration in range(num_iterations):\n",
        "    grid = update_grid(grid, data['demand_lengths'], data['demand_quantities'], data['stock_length'], mutation_probability, reset_probability, iteration, num_iterations)\n",
        "\n",
        "    best_patterns = [pattern for row in grid for pattern in row if fitness(pattern, data['demand_lengths'], data['demand_quantities'], data['stock_length']) > 0]\n",
        "    fulfillment = sum([min(pattern[i], data['demand_quantities'][i]) for pattern in best_patterns for i in range(len(data['demand_lengths']))])\n",
        "    waste = sum([max(0, data['stock_length'] - sum([p * l for p, l in zip(pattern, data['demand_lengths'])])) for pattern in best_patterns])\n",
        "\n",
        "    fulfillment_over_time.append(fulfillment)\n",
        "    waste_over_time.append(waste)"
      ],
      "metadata": {
        "colab": {
          "base_uri": "https://localhost:8080/"
        },
        "id": "k_MII9PGRzbt",
        "outputId": "01fad06c-9839-4d84-f605-4b69d38e9f27"
      },
      "id": "k_MII9PGRzbt",
      "execution_count": 27,
      "outputs": [
        {
          "output_type": "stream",
          "name": "stdout",
          "text": [
            "Grid Size: (5, 5), Runtime: 0.11424088478088379s, Total Fulfillment: [20, 25, 15, 25, 10, 18, 22, 17, 25, 12], Total Waste: 0\n",
            "Grid Size: (10, 10), Runtime: 0.40746355056762695s, Total Fulfillment: [20, 30, 15, 25, 10, 18, 22, 17, 35, 12], Total Waste: 0\n",
            "Grid Size: (20, 20), Runtime: 1.9050965309143066s, Total Fulfillment: [20, 30, 15, 25, 10, 18, 22, 17, 35, 12], Total Waste: 0\n"
          ]
        }
      ]
    },
    {
      "cell_type": "markdown",
      "source": [
        "## Ant Colony Algorithm"
      ],
      "metadata": {
        "id": "O-QhuzUsl_p4"
      },
      "id": "O-QhuzUsl_p4"
    },
    {
      "cell_type": "code",
      "source": [
        "demand_lengths = data['demand_lengths']\n",
        "demand_quantities = data['demand_quantities']\n",
        "stock_length = data['stock_length']\n",
        "\n",
        "pheromones = np.ones(len(demand_lengths)) * pheromone_intensity\n",
        "\n",
        "def fitness_ant(solution, demand_lengths, demand_quantities, stock_length):\n",
        "    if solution[0] == -1000:\n",
        "        return -1000\n",
        "    total_used = sum([p * l for p, l in zip(solution, demand_lengths)])\n",
        "    if total_used > stock_length:\n",
        "        return -1000\n",
        "    unmet_minimum = sum(1 for p in solution if p < 1)\n",
        "    waste = max(stock_length - total_used, 0)\n",
        "    demand_fulfillment = sum(min(p, q) for p, q in zip(solution, demand_quantities))\n",
        "    unmet_penalty = sum(1 for p, q in zip(solution, demand_quantities) if p < q) * 0.1\n",
        "    return demand_fulfillment - 0.1 * waste - unmet_penalty - 100 * unmet_minimum\n",
        "\n",
        "def construct_solution(pheromones, demand_lengths, demand_quantities, stock_length):\n",
        "    solution = [1] * len(demand_lengths)\n",
        "    remaining_length = stock_length - sum([l for l in demand_lengths])\n",
        "\n",
        "    if remaining_length < 0:\n",
        "        return [-1000] * len(demand_lengths)\n",
        "\n",
        "    while remaining_length > 0:\n",
        "        probabilities = [(pheromones[i] ** alpha) * ((demand_quantities[i] / demand_lengths[i]) ** beta)\n",
        "                         if demand_lengths[i] <= remaining_length and solution[i] < demand_quantities[i] else 0\n",
        "                         for i in range(len(demand_lengths))]\n",
        "        if sum(probabilities) == 0:\n",
        "            break\n",
        "\n",
        "        probabilities = np.array(probabilities) / sum(probabilities)\n",
        "        chosen_index = np.random.choice(len(demand_lengths), p=probabilities)\n",
        "\n",
        "        max_possible_count = remaining_length // demand_lengths[chosen_index]\n",
        "        count = min(max_possible_count, demand_quantities[chosen_index] - solution[chosen_index])\n",
        "        solution[chosen_index] += count\n",
        "        remaining_length -= count * demand_lengths[chosen_index]\n",
        "\n",
        "    return solution\n",
        "\n",
        "\n",
        "def update_pheromones(pheromones, solutions, fitness_values):\n",
        "    pheromones *= (1 - evaporation_rate)\n",
        "    for solution, fitness_value in zip(solutions, fitness_values):\n",
        "        for i in range(len(solution)):\n",
        "            pheromones[i] += fitness_value * solution[i] if fitness_value > 0 else 0\n",
        "\n",
        "def ant_colony_optimization(num_ants, num_iterations, demand_lengths, demand_quantities, stock_length):\n",
        "    best_solution = None\n",
        "    best_fitness = float('-inf')\n",
        "\n",
        "    for iteration in range(num_iterations):\n",
        "        solutions = [construct_solution(pheromones, demand_lengths, demand_quantities, stock_length) for _ in range(num_ants)]\n",
        "        fitness_values = [fitness_ant(solution, demand_lengths, demand_quantities, stock_length) for solution in solutions]\n",
        "\n",
        "        for solution, fitness_value in zip(solutions, fitness_values):\n",
        "            if fitness_value > best_fitness:\n",
        "                best_fitness = fitness_value\n",
        "                best_solution = solution\n",
        "        update_pheromones(pheromones, solutions, fitness_values)\n",
        "\n",
        "    total_used = sum([p * l for p, l in zip(best_solution, demand_lengths)])\n",
        "    total_waste = max(0, stock_length - total_used)\n",
        "    total_fulfillment = [min(best_solution[i], demand_quantities[i]) for i in range(len(demand_lengths))]\n",
        "\n",
        "    return best_solution, total_fulfillment, total_waste\n",
        "\n",
        "\n",
        "best_solution_aco, total_fulfillment_aco, total_waste_aco = ant_colony_optimization(num_ants, num_iterations, demand_lengths, demand_quantities, stock_length)\n",
        "\n",
        "print(\"Best Solution:\", best_solution_aco)\n",
        "print(\"Total Fulfillment:\", total_fulfillment_aco)\n",
        "print(\"Total Waste:\", total_waste_aco)\n"
      ],
      "metadata": {
        "id": "1A8ce3bLfiBq",
        "colab": {
          "base_uri": "https://localhost:8080/"
        },
        "outputId": "7b2fc514-c773-4e09-a31f-6e9168c8885f"
      },
      "id": "1A8ce3bLfiBq",
      "execution_count": 28,
      "outputs": [
        {
          "output_type": "stream",
          "name": "stdout",
          "text": [
            "Best Solution: [1, 1, 1, 6, 10, 1, 2, 1, 35, 1]\n",
            "Total Fulfillment: [1, 1, 1, 6, 10, 1, 2, 1, 35, 1]\n",
            "Total Waste: 0\n"
          ]
        }
      ]
    },
    {
      "cell_type": "markdown",
      "source": [
        "### Ant Colony Optimization Comparison"
      ],
      "metadata": {
        "id": "OYVe7V09Udvk"
      },
      "id": "OYVe7V09Udvk"
    },
    {
      "cell_type": "code",
      "source": [
        "ant_counts = [25, 50, 100]\n",
        "aco_results = []\n",
        "\n",
        "for num_ants in ant_counts:\n",
        "    start_time = time.time()\n",
        "    best_solution, total_fulfillment, total_waste = ant_colony_optimization(num_ants, num_iterations, data['demand_lengths'], data['demand_quantities'], data['stock_length'])\n",
        "    end_time = time.time()\n",
        "    runtime = end_time - start_time\n",
        "    aco_results.append({\n",
        "        'Num Ants': num_ants,\n",
        "        'Runtime (s)': runtime,\n",
        "        'Best Solution': best_solution,\n",
        "        'Total Fulfillment': total_fulfillment,\n",
        "        'Total Waste': total_waste\n",
        "    })\n",
        "\n",
        "for result in aco_results:\n",
        "    print(f\"Num Ants: {result['Num Ants']}, Runtime: {result['Runtime (s)']}s, Best Solution: {result['Best Solution']}, Total Fulfillment: {result['Total Fulfillment']}, Total Waste: {result['Total Waste']}\")\n",
        "\n",
        "fulfillment_over_iterations = []\n",
        "waste_over_iterations = []\n",
        "pheromones = np.ones(len(data['demand_lengths'])) * pheromone_intensity\n",
        "\n",
        "for iteration in range(num_iterations):\n",
        "    solutions = [construct_solution(pheromones, data['demand_lengths'], data['demand_quantities'], data['stock_length']) for _ in range(num_ants)]\n",
        "    fitness_values = [fitness_ant(solution, data['demand_lengths'], data['demand_quantities'], data['stock_length']) for solution in solutions]\n",
        "\n",
        "    best_solution = max(solutions, key=lambda sol: fitness_ant(sol, data['demand_lengths'], data['demand_quantities'], data['stock_length']))\n",
        "    total_used = sum([p * l for p, l in zip(best_solution, data['demand_lengths'])])\n",
        "    total_waste = max(0, data['stock_length'] - total_used)\n",
        "    total_fulfillment = [min(best_solution[i], data['demand_quantities'][i]) for i in range(len(data['demand_lengths']))]\n",
        "\n",
        "    fulfillment_over_iterations.append(sum(total_fulfillment))\n",
        "    waste_over_iterations.append(total_waste)\n",
        "\n",
        "    update_pheromones(pheromones, solutions, fitness_values)\n",
        "\n"
      ],
      "metadata": {
        "colab": {
          "base_uri": "https://localhost:8080/"
        },
        "id": "WBDSqDk0LfII",
        "outputId": "48b352b3-2682-4a15-ca72-921ac4b07d46"
      },
      "id": "WBDSqDk0LfII",
      "execution_count": 29,
      "outputs": [
        {
          "output_type": "stream",
          "name": "stdout",
          "text": [
            "Num Ants: 25, Runtime: 0.2796518802642822s, Best Solution: [2, 1, 15, 1, 1, 1, 1, 1, 35, 1], Total Fulfillment: [2, 1, 15, 1, 1, 1, 1, 1, 35, 1], Total Waste: 0\n",
            "Num Ants: 50, Runtime: 0.5982985496520996s, Best Solution: [1, 1, 1, 6, 10, 1, 2, 1, 35, 1], Total Fulfillment: [1, 1, 1, 6, 10, 1, 2, 1, 35, 1], Total Waste: 0\n",
            "Num Ants: 100, Runtime: 1.362269639968872s, Best Solution: [1, 1, 1, 6, 10, 1, 2, 1, 35, 1], Total Fulfillment: [1, 1, 1, 6, 10, 1, 2, 1, 35, 1], Total Waste: 0\n"
          ]
        }
      ]
    },
    {
      "cell_type": "markdown",
      "source": [
        "## Comparison the results"
      ],
      "metadata": {
        "id": "VqvQHolj3Czm"
      },
      "id": "VqvQHolj3Czm"
    },
    {
      "cell_type": "code",
      "source": [
        "def collect_results():\n",
        "    # Genetic Algorithm results for 100 population size\n",
        "    ga_best_solution, ga_fulfillment, ga_waste = best_solution, sum(best_solution), total_waste\n",
        "    ga_runtime = genetic_results[1]['Runtime (s)']\n",
        "\n",
        "    # Cellular automata results for 10 * 10 grid\n",
        "    ca_best_patterns, ca_fulfillment, ca_waste = best_patterns, sum(total_fulfillment_ca), total_waste\n",
        "    ca_runtime = results[1]['Runtime (s)']\n",
        "\n",
        "    # Results for 50 ants\n",
        "    aco_best_solution, aco_fulfillment, aco_waste = best_solution, sum(total_fulfillment), total_waste\n",
        "    aco_runtime = aco_results[1]['Runtime (s)']\n",
        "\n",
        "    return [\n",
        "        {\"Algorithm\": \"Genetic Algorithm\", \"Runtime (s)\": ga_runtime, \"Fulfillment\": ga_fulfillment, \"Waste\": ga_waste},\n",
        "        {\"Algorithm\": \"Cellular Automata\", \"Runtime (s)\": ca_runtime, \"Fulfillment\": ca_fulfillment, \"Waste\": ca_waste},\n",
        "        {\"Algorithm\": \"Ant Colony Optimization\", \"Runtime (s)\": aco_runtime, \"Fulfillment\": aco_fulfillment, \"Waste\": aco_waste},\n",
        "    ]\n",
        "\n",
        "results = collect_results()\n",
        "results_df = pd.DataFrame(results)\n",
        "\n",
        "# Informative table\n",
        "print(\"Comparative Results Across Algorithms\")\n",
        "print(results_df)\n",
        "\n",
        "# Runtime comparisons\n",
        "plt.figure()\n",
        "plt.bar(results_df[\"Algorithm\"], results_df[\"Runtime (s)\"], color=\"skyblue\")\n",
        "plt.xlabel(\"Algorithm\")\n",
        "plt.ylabel(\"Runtime (s)\")\n",
        "plt.title(\"Runtime Comparison\")\n",
        "plt.show()\n",
        "\n",
        "# Waste Trends\n",
        "plt.figure()\n",
        "plt.plot(range(num_generations), waste_over_generations, label=\"Genetic Algorithm (Waste)\")\n",
        "plt.plot(range(num_iterations), waste_over_time, label=\"Cellular Automata (Waste)\")\n",
        "plt.plot(range(num_iterations), waste_over_iterations, label=\"ACO (Waste)\")\n",
        "plt.xlabel(\"Iterations / Generations\")\n",
        "plt.ylabel(\"Total Waste\")\n",
        "plt.title(\"Convergence Trends (Waste)\")\n",
        "plt.legend()\n",
        "plt.show()\n"
      ],
      "metadata": {
        "id": "3DO6p8irTY0Q",
        "outputId": "9606d619-0eb7-40ae-ec0e-d9f286384083",
        "colab": {
          "base_uri": "https://localhost:8080/",
          "height": 1000
        }
      },
      "id": "3DO6p8irTY0Q",
      "execution_count": 31,
      "outputs": [
        {
          "output_type": "stream",
          "name": "stdout",
          "text": [
            "Comparative Results Across Algorithms\n",
            "                 Algorithm  Runtime (s)  Fulfillment  Waste\n",
            "0        Genetic Algorithm     0.960973           63     50\n",
            "1        Cellular Automata     0.407464          204     50\n",
            "2  Ant Colony Optimization     0.598299           63     50\n"
          ]
        },
        {
          "output_type": "display_data",
          "data": {
            "text/plain": [
              "<Figure size 640x480 with 1 Axes>"
            ],
            "image/png": "[encoded data removed]"
          },
          "metadata": {}
        },
        {
          "output_type": "display_data",
          "data": {
            "text/plain": [
              "<Figure size 640x480 with 1 Axes>"
            ],
            "image/png": "[encoded data removed]"
          },
          "metadata": {}
        }
      ]
    },
    {
      "cell_type": "code",
      "source": [],
      "metadata": {
        "id": "kWCVe3UkEARq"
      },
      "id": "kWCVe3UkEARq",
      "execution_count": null,
      "outputs": []
    }
  ],
  "metadata": {
    "kernelspec": {
      "display_name": "Python 3 (ipykernel)",
      "language": "python",
      "name": "python3"
    },
    "language_info": {
      "codemirror_mode": {
        "name": "ipython",
        "version": 3
      },
      "file_extension": ".py",
      "mimetype": "text/x-python",
      "name": "python",
      "nbconvert_exporter": "python",
      "pygments_lexer": "ipython3",
      "version": "3.9.19"
    },
    "colab": {
      "provenance": [],
      "toc_visible": true
    }
  },
  "nbformat": 4,
  "nbformat_minor": 5
}