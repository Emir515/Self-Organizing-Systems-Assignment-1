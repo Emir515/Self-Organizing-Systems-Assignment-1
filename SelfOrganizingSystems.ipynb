{
  "nbformat": 4,
  "nbformat_minor": 0,
  "metadata": {
    "colab": {
      "provenance": [],
      "authorship_tag": "ABX9TyNJ89xQKaruj/6rDL3j/UbA",
      "include_colab_link": true
    },
    "kernelspec": {
      "name": "python3",
      "display_name": "Python 3"
    },
    "language_info": {
      "name": "python"
    }
  },
  "cells": [
    {
      "cell_type": "markdown",
      "metadata": {
        "id": "view-in-github",
        "colab_type": "text"
      },
      "source": [
        "<a href=\"https://colab.research.google.com/github/Emir515/Self-Organizing-Systems-Assignment-1/blob/main/SelfOrganizingSystems.ipynb\" target=\"_parent\"><img src=\"https://colab.research.google.com/assets/colab-badge.svg\" alt=\"Open In Colab\"/></a>"
      ]
    },
    {
      "cell_type": "code",
      "execution_count": 1,
      "metadata": {
        "colab": {
          "base_uri": "https://localhost:8080/"
        },
        "id": "qNFeJIB-sEFI",
        "outputId": "d26b235f-de2a-4177-9fc4-da936dc7c379"
      },
      "outputs": [
        {
          "output_type": "stream",
          "name": "stdout",
          "text": [
            "Best Route: [2, 3, 1]\n",
            "Best Cost: 85\n"
          ]
        }
      ],
      "source": [
        "import numpy as np\n",
        "import random\n",
        "\n",
        "def calculate_fitness(route, data):\n",
        "    total_distance = 0\n",
        "    current_load = 0\n",
        "    vehicle_capacity = data['vehicle_capacities'][0]\n",
        "    distance_matrix = data['distance_matrix']\n",
        "\n",
        "    for i in range(len(route)):\n",
        "        if current_load + data['demands'][route[i]] > vehicle_capacity:\n",
        "            # Return to depot and reset load if over capacity\n",
        "            total_distance += distance_matrix[route[i-1]][data['depot']]\n",
        "            current_load = 0\n",
        "        current_load += data['demands'][route[i]]\n",
        "        if i > 0:\n",
        "            total_distance += distance_matrix[route[i-1]][route[i]]\n",
        "    total_distance += distance_matrix[route[-1]][data['depot']]  # Return to depot\n",
        "\n",
        "    return total_distance\n",
        "\n",
        "def selection(population, data):\n",
        "    fitness_scores = [(route, calculate_fitness(route, data)) for route in population]\n",
        "    fitness_scores.sort(key=lambda x: x[1])\n",
        "    selected = [route for route, score in fitness_scores[:len(fitness_scores) // 2]]\n",
        "    return selected\n",
        "\n",
        "# Crossover\n",
        "def crossover(parent1, parent2):\n",
        "    crossover_point = random.randint(1, len(parent1) - 2)\n",
        "    child1 = parent1[:crossover_point] + [item for item in parent2 if item not in parent1[:crossover_point]]\n",
        "    child2 = parent2[:crossover_point] + [item for item in parent1 if item not in parent2[:crossover_point]]\n",
        "    return child1, child2\n",
        "\n",
        "# Mutation\n",
        "def mutate(route):\n",
        "    idx1, idx2 = random.sample(range(len(route)), 2)\n",
        "    route[idx1], route[idx2] = route[idx2], route[idx1]\n",
        "    return route\n",
        "\n",
        "# Genetic Algorithm\n",
        "def genetic_algorithm(data, pop_size=10, generations=50, mutation_rate=0.1):\n",
        "    num_customers = len(data['distance_matrix']) - 1\n",
        "    population = initialize_population(pop_size, num_customers)\n",
        "\n",
        "    for gen in range(generations):\n",
        "        selected = selection(population, data)\n",
        "        next_generation = []\n",
        "\n",
        "        # Crossover\n",
        "        while len(next_generation) < pop_size:\n",
        "            parent1, parent2 = random.sample(selected, 2)\n",
        "            child1, child2 = crossover(parent1, parent2)\n",
        "            next_generation.extend([child1, child2])\n",
        "\n",
        "        # Mutation\n",
        "        for i in range(len(next_generation)):\n",
        "            if random.random() < mutation_rate:\n",
        "                next_generation[i] = mutate(next_generation[i])\n",
        "\n",
        "        population = next_generation\n",
        "\n",
        "    # Select the best route from the final population\n",
        "    best_route = min(population, key=lambda route: calculate_fitness(route, data))\n",
        "    best_cost = calculate_fitness(best_route, data)\n",
        "    return best_route, best_cost\n",
        "\n",
        "# Main function\n",
        "if __name__ == \"__main__\":\n",
        "    data = create_data_model()\n",
        "    best_route, best_cost = genetic_algorithm(data)\n",
        "    print(\"Best Route:\", best_route)\n",
        "    print(\"Best Cost:\", best_cost)\n"
      ]
    },
    {
      "cell_type": "code",
      "source": [
        "\n",
        "import numpy as np\n",
        "import pandas as pd\n",
        "\n",
        "def generate_vrp_data(num_customers, max_demand, vehicle_capacity, seed=42):\n",
        "    np.random.seed(seed)\n",
        "    depot = (0, 0)  # central depot at origin\n",
        "    customer_locations = np.random.rand(num_customers, 2) * 100  # random locations in a 100x100 grid\n",
        "    demands = np.random.randint(1, max_demand, num_customers)  # random demand per customer\n",
        "\n",
        "    # Calculate distance matrix (Euclidean distance)\n",
        "    locations = np.vstack([depot, customer_locations])\n",
        "    distance_matrix = np.sqrt(((locations[:, np.newaxis] - locations) ** 2).sum(axis=2))\n",
        "\n",
        "    # Save data to DataFrame for easy handling\n",
        "    vrp_data = pd.DataFrame({\n",
        "        'Location': ['Depot'] + [f'Customer_{i}' for i in range(1, num_customers + 1)],\n",
        "        'X': locations[:, 0],\n",
        "        'Y': locations[:, 1],\n",
        "        'Demand': [0] + list(demands)\n",
        "    })\n",
        "    return vrp_data, distance_matrix, vehicle_capacity\n",
        "\n",
        "# Example usage\n",
        "num_customers = 100\n",
        "max_demand = 10\n",
        "vehicle_capacity = 120\n",
        "vrp_data, distance_matrix, vehicle_capacity = generate_vrp_data(num_customers, max_demand, vehicle_capacity)\n",
        "print(vrp_data)\n",
        "print(\"Distance Matrix:\\n\", distance_matrix)\n"
      ],
      "metadata": {
        "colab": {
          "base_uri": "https://localhost:8080/"
        },
        "id": "ugq56cPrsJ1Q",
        "outputId": "b481a8c3-ef8b-421d-f0b4-e9bf3e5ba4be"
      },
      "execution_count": 4,
      "outputs": [
        {
          "output_type": "stream",
          "name": "stdout",
          "text": [
            "         Location          X          Y  Demand\n",
            "0           Depot   0.000000   0.000000       0\n",
            "1      Customer_1  37.454012  95.071431       8\n",
            "2      Customer_2  73.199394  59.865848       4\n",
            "3      Customer_3  15.601864  15.599452       1\n",
            "4      Customer_4   5.808361  86.617615       8\n",
            "..            ...        ...        ...     ...\n",
            "96    Customer_96   9.310277  89.721576       2\n",
            "97    Customer_97  90.041806  63.310146       7\n",
            "98    Customer_98  33.902979  34.920957       6\n",
            "99    Customer_99  72.595568  89.711026       3\n",
            "100  Customer_100  88.708642  77.987555       9\n",
            "\n",
            "[101 rows x 4 columns]\n",
            "Distance Matrix:\n",
            " [[  0.         102.18307066  94.5625249  ...  48.67119541 115.40443952\n",
            "  118.11554475]\n",
            " [102.18307066   0.          50.17136011 ...  60.25520108  35.54803646\n",
            "   54.02680791]\n",
            " [ 94.5625249   50.17136011   0.         ...  46.54520193  29.85128524\n",
            "   23.85231677]\n",
            " ...\n",
            " [ 48.67119541  60.25520108  46.54520193 ...   0.          67.07509252\n",
            "   69.70217012]\n",
            " [115.40443952  35.54803646  29.85128524 ...  67.07509252   0.\n",
            "   19.92663928]\n",
            " [118.11554475  54.02680791  23.85231677 ...  69.70217012  19.92663928\n",
            "    0.        ]]\n"
          ]
        }
      ]
    },
    {
      "cell_type": "code",
      "source": [
        "import matplotlib.pyplot as plt\n",
        "\n",
        "plt.figure(figsize=(8, 6))\n",
        "plt.scatter(vrp_data['X'][1:], vrp_data['Y'][1:], marker='o', label='Customers')\n",
        "plt.scatter(vrp_data['X'][0], vrp_data['Y'][0], marker='s', s=100, color='red', label='Depot')\n",
        "\n",
        "plt.xlabel('X Coordinate')\n",
        "plt.ylabel('Y Coordinate')\n",
        "plt.title('VRP Customer Locations')\n",
        "plt.legend()\n",
        "plt.grid(True)\n",
        "plt.show()"
      ],
      "metadata": {
        "colab": {
          "base_uri": "https://localhost:8080/",
          "height": 564
        },
        "id": "SDXunOQRwQj8",
        "outputId": "5d2c94c6-c74a-4fe8-c1dc-38ae7f7f3844"
      },
      "execution_count": 5,
      "outputs": [
        {
          "output_type": "display_data",
          "data": {
            "text/plain": [
              "<Figure size 800x600 with 1 Axes>"
            ],
            "image/png": "[encoded data removed]"
          },
          "metadata": {}
        }
      ]
    },
    {
      "cell_type": "code",
      "source": [],
      "metadata": {
        "id": "kTisV-WlwgV-"
      },
      "execution_count": null,
      "outputs": []
    }
  ]
}