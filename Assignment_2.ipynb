{
  "nbformat": 4,
  "nbformat_minor": 0,
  "metadata": {
    "colab": {
      "provenance": []
    },
    "kernelspec": {
      "name": "python3",
      "display_name": "Python 3"
    },
    "language_info": {
      "name": "python"
    }
  },
  "cells": [
    {
      "cell_type": "code",
      "execution_count": null,
      "metadata": {
        "colab": {
          "base_uri": "https://localhost:8080/",
          "height": 75
        },
        "id": "k1ngG6GEHNTP",
        "outputId": "4011b9e7-1a17-4298-c4d5-b093aeb8a045"
      },
      "outputs": [
        {
          "output_type": "display_data",
          "data": {
            "text/plain": [
              "<IPython.core.display.HTML object>"
            ],
            "text/html": [
              "\n",
              "     <input type=\"file\" id=\"files-64ef3a87-e641-4f32-8b13-149ccc1cd692\" name=\"files[]\" multiple disabled\n",
              "        style=\"border:none\" />\n",
              "     <output id=\"result-64ef3a87-e641-4f32-8b13-149ccc1cd692\">\n",
              "      Upload widget is only available when the cell has been executed in the\n",
              "      current browser session. Please rerun this cell to enable.\n",
              "      </output>\n",
              "      <script>// Copyright 2017 Google LLC\n",
              "//\n",
              "// Licensed under the Apache License, Version 2.0 (the \"License\");\n",
              "// you may not use this file except in compliance with the License.\n",
              "// You may obtain a copy of the License at\n",
              "//\n",
              "//      http://www.apache.org/licenses/LICENSE-2.0\n",
              "//\n",
              "// Unless required by applicable law or agreed to in writing, software\n",
              "// distributed under the License is distributed on an \"AS IS\" BASIS,\n",
              "// WITHOUT WARRANTIES OR CONDITIONS OF ANY KIND, either express or implied.\n",
              "// See the License for the specific language governing permissions and\n",
              "// limitations under the License.\n",
              "\n",
              "/**\n",
              " * @fileoverview Helpers for google.colab Python module.\n",
              " */\n",
              "(function(scope) {\n",
              "function span(text, styleAttributes = {}) {\n",
              "  const element = document.createElement('span');\n",
              "  element.textContent = text;\n",
              "  for (const key of Object.keys(styleAttributes)) {\n",
              "    element.style[key] = styleAttributes[key];\n",
              "  }\n",
              "  return element;\n",
              "}\n",
              "\n",
              "// Max number of bytes which will be uploaded at a time.\n",
              "const MAX_PAYLOAD_SIZE = 100 * 1024;\n",
              "\n",
              "function _uploadFiles(inputId, outputId) {\n",
              "  const steps = uploadFilesStep(inputId, outputId);\n",
              "  const outputElement = document.getElementById(outputId);\n",
              "  // Cache steps on the outputElement to make it available for the next call\n",
              "  // to uploadFilesContinue from Python.\n",
              "  outputElement.steps = steps;\n",
              "\n",
              "  return _uploadFilesContinue(outputId);\n",
              "}\n",
              "\n",
              "// This is roughly an async generator (not supported in the browser yet),\n",
              "// where there are multiple asynchronous steps and the Python side is going\n",
              "// to poll for completion of each step.\n",
              "// This uses a Promise to block the python side on completion of each step,\n",
              "// then passes the result of the previous step as the input to the next step.\n",
              "function _uploadFilesContinue(outputId) {\n",
              "  const outputElement = document.getElementById(outputId);\n",
              "  const steps = outputElement.steps;\n",
              "\n",
              "  const next = steps.next(outputElement.lastPromiseValue);\n",
              "  return Promise.resolve(next.value.promise).then((value) => {\n",
              "    // Cache the last promise value to make it available to the next\n",
              "    // step of the generator.\n",
              "    outputElement.lastPromiseValue = value;\n",
              "    return next.value.response;\n",
              "  });\n",
              "}\n",
              "\n",
              "/**\n",
              " * Generator function which is called between each async step of the upload\n",
              " * process.\n",
              " * @param {string} inputId Element ID of the input file picker element.\n",
              " * @param {string} outputId Element ID of the output display.\n",
              " * @return {!Iterable<!Object>} Iterable of next steps.\n",
              " */\n",
              "function* uploadFilesStep(inputId, outputId) {\n",
              "  const inputElement = document.getElementById(inputId);\n",
              "  inputElement.disabled = false;\n",
              "\n",
              "  const outputElement = document.getElementById(outputId);\n",
              "  outputElement.innerHTML = '';\n",
              "\n",
              "  const pickedPromise = new Promise((resolve) => {\n",
              "    inputElement.addEventListener('change', (e) => {\n",
              "      resolve(e.target.files);\n",
              "    });\n",
              "  });\n",
              "\n",
              "  const cancel = document.createElement('button');\n",
              "  inputElement.parentElement.appendChild(cancel);\n",
              "  cancel.textContent = 'Cancel upload';\n",
              "  const cancelPromise = new Promise((resolve) => {\n",
              "    cancel.onclick = () => {\n",
              "      resolve(null);\n",
              "    };\n",
              "  });\n",
              "\n",
              "  // Wait for the user to pick the files.\n",
              "  const files = yield {\n",
              "    promise: Promise.race([pickedPromise, cancelPromise]),\n",
              "    response: {\n",
              "      action: 'starting',\n",
              "    }\n",
              "  };\n",
              "\n",
              "  cancel.remove();\n",
              "\n",
              "  // Disable the input element since further picks are not allowed.\n",
              "  inputElement.disabled = true;\n",
              "\n",
              "  if (!files) {\n",
              "    return {\n",
              "      response: {\n",
              "        action: 'complete',\n",
              "      }\n",
              "    };\n",
              "  }\n",
              "\n",
              "  for (const file of files) {\n",
              "    const li = document.createElement('li');\n",
              "    li.append(span(file.name, {fontWeight: 'bold'}));\n",
              "    li.append(span(\n",
              "        `(${file.type || 'n/a'}) - ${file.size} bytes, ` +\n",
              "        `last modified: ${\n",
              "            file.lastModifiedDate ? file.lastModifiedDate.toLocaleDateString() :\n",
              "                                    'n/a'} - `));\n",
              "    const percent = span('0% done');\n",
              "    li.appendChild(percent);\n",
              "\n",
              "    outputElement.appendChild(li);\n",
              "\n",
              "    const fileDataPromise = new Promise((resolve) => {\n",
              "      const reader = new FileReader();\n",
              "      reader.onload = (e) => {\n",
              "        resolve(e.target.result);\n",
              "      };\n",
              "      reader.readAsArrayBuffer(file);\n",
              "    });\n",
              "    // Wait for the data to be ready.\n",
              "    let fileData = yield {\n",
              "      promise: fileDataPromise,\n",
              "      response: {\n",
              "        action: 'continue',\n",
              "      }\n",
              "    };\n",
              "\n",
              "    // Use a chunked sending to avoid message size limits. See b/62115660.\n",
              "    let position = 0;\n",
              "    do {\n",
              "      const length = Math.min(fileData.byteLength - position, MAX_PAYLOAD_SIZE);\n",
              "      const chunk = new Uint8Array(fileData, position, length);\n",
              "      position += length;\n",
              "\n",
              "      const base64 = btoa(String.fromCharCode.apply(null, chunk));\n",
              "      yield {\n",
              "        response: {\n",
              "          action: 'append',\n",
              "          file: file.name,\n",
              "          data: base64,\n",
              "        },\n",
              "      };\n",
              "\n",
              "      let percentDone = fileData.byteLength === 0 ?\n",
              "          100 :\n",
              "          Math.round((position / fileData.byteLength) * 100);\n",
              "      percent.textContent = `${percentDone}% done`;\n",
              "\n",
              "    } while (position < fileData.byteLength);\n",
              "  }\n",
              "\n",
              "  // All done.\n",
              "  yield {\n",
              "    response: {\n",
              "      action: 'complete',\n",
              "    }\n",
              "  };\n",
              "}\n",
              "\n",
              "scope.google = scope.google || {};\n",
              "scope.google.colab = scope.google.colab || {};\n",
              "scope.google.colab._files = {\n",
              "  _uploadFiles,\n",
              "  _uploadFilesContinue,\n",
              "};\n",
              "})(self);\n",
              "</script> "
            ]
          },
          "metadata": {}
        },
        {
          "output_type": "stream",
          "name": "stdout",
          "text": [
            "Saving PSO-NN.py to PSO-NN (1).py\n"
          ]
        }
      ],
      "source": [
        "from google.colab import files\n",
        "uploaded = files.upload()\n"
      ]
    },
    {
      "cell_type": "code",
      "source": [
        "!mkdir project\n",
        "!mv activations.py classic-NN.py commonsetup.py datasets.py PSO-NN.py project/\n",
        "%cd project\n"
      ],
      "metadata": {
        "colab": {
          "base_uri": "https://localhost:8080/"
        },
        "id": "fdfCMERxHO_3",
        "outputId": "48820bb7-79e1-40f9-d9f3-1961fa0c00d7"
      },
      "execution_count": null,
      "outputs": [
        {
          "output_type": "stream",
          "name": "stdout",
          "text": [
            "mv: cannot stat 'activations.py': No such file or directory\n",
            "mv: cannot stat 'classic-NN.py': No such file or directory\n",
            "mv: cannot stat 'commonsetup.py': No such file or directory\n",
            "mv: cannot stat 'datasets.py': No such file or directory\n",
            "/content/project\n"
          ]
        }
      ]
    },
    {
      "cell_type": "code",
      "source": [
        "!pip install pyswarms numpy matplotlib scikit-learn pandas\n"
      ],
      "metadata": {
        "colab": {
          "base_uri": "https://localhost:8080/"
        },
        "id": "571i1qyPHRgc",
        "outputId": "0f08b016-a236-4bfc-b228-7e58fe064f89"
      },
      "execution_count": null,
      "outputs": [
        {
          "output_type": "stream",
          "name": "stdout",
          "text": [
            "Collecting pyswarms\n",
            "  Downloading pyswarms-1.3.0-py2.py3-none-any.whl.metadata (33 kB)\n",
            "Requirement already satisfied: numpy in /usr/local/lib/python3.10/dist-packages (1.26.4)\n",
            "Requirement already satisfied: matplotlib in /usr/local/lib/python3.10/dist-packages (3.8.0)\n",
            "Requirement already satisfied: scikit-learn in /usr/local/lib/python3.10/dist-packages (1.6.0)\n",
            "Requirement already satisfied: pandas in /usr/local/lib/python3.10/dist-packages (2.2.2)\n",
            "Requirement already satisfied: scipy in /usr/local/lib/python3.10/dist-packages (from pyswarms) (1.13.1)\n",
            "Requirement already satisfied: attrs in /usr/local/lib/python3.10/dist-packages (from pyswarms) (24.3.0)\n",
            "Requirement already satisfied: tqdm in /usr/local/lib/python3.10/dist-packages (from pyswarms) (4.67.1)\n",
            "Requirement already satisfied: future in /usr/local/lib/python3.10/dist-packages (from pyswarms) (1.0.0)\n",
            "Requirement already satisfied: pyyaml in /usr/local/lib/python3.10/dist-packages (from pyswarms) (6.0.2)\n",
            "Requirement already satisfied: contourpy>=1.0.1 in /usr/local/lib/python3.10/dist-packages (from matplotlib) (1.3.1)\n",
            "Requirement already satisfied: cycler>=0.10 in /usr/local/lib/python3.10/dist-packages (from matplotlib) (0.12.1)\n",
            "Requirement already satisfied: fonttools>=4.22.0 in /usr/local/lib/python3.10/dist-packages (from matplotlib) (4.55.3)\n",
            "Requirement already satisfied: kiwisolver>=1.0.1 in /usr/local/lib/python3.10/dist-packages (from matplotlib) (1.4.7)\n",
            "Requirement already satisfied: packaging>=20.0 in /usr/local/lib/python3.10/dist-packages (from matplotlib) (24.2)\n",
            "Requirement already satisfied: pillow>=6.2.0 in /usr/local/lib/python3.10/dist-packages (from matplotlib) (11.0.0)\n",
            "Requirement already satisfied: pyparsing>=2.3.1 in /usr/local/lib/python3.10/dist-packages (from matplotlib) (3.2.0)\n",
            "Requirement already satisfied: python-dateutil>=2.7 in /usr/local/lib/python3.10/dist-packages (from matplotlib) (2.8.2)\n",
            "Requirement already satisfied: joblib>=1.2.0 in /usr/local/lib/python3.10/dist-packages (from scikit-learn) (1.4.2)\n",
            "Requirement already satisfied: threadpoolctl>=3.1.0 in /usr/local/lib/python3.10/dist-packages (from scikit-learn) (3.5.0)\n",
            "Requirement already satisfied: pytz>=2020.1 in /usr/local/lib/python3.10/dist-packages (from pandas) (2024.2)\n",
            "Requirement already satisfied: tzdata>=2022.7 in /usr/local/lib/python3.10/dist-packages (from pandas) (2024.2)\n",
            "Requirement already satisfied: six>=1.5 in /usr/local/lib/python3.10/dist-packages (from python-dateutil>=2.7->matplotlib) (1.17.0)\n",
            "Downloading pyswarms-1.3.0-py2.py3-none-any.whl (104 kB)\n",
            "\u001b[2K   \u001b[90m━━━━━━━━━━━━━━━━━━━━━━━━━━━━━━━━━━━━━━━━\u001b[0m \u001b[32m104.1/104.1 kB\u001b[0m \u001b[31m5.1 MB/s\u001b[0m eta \u001b[36m0:00:00\u001b[0m\n",
            "\u001b[?25hInstalling collected packages: pyswarms\n",
            "Successfully installed pyswarms-1.3.0\n"
          ]
        }
      ]
    },
    {
      "cell_type": "code",
      "source": [
        "!python classic-NN.py\n"
      ],
      "metadata": {
        "colab": {
          "base_uri": "https://localhost:8080/"
        },
        "id": "CpWk_L2THWzU",
        "outputId": "b8210e84-55ad-4fe7-da34-48c868a0792f"
      },
      "execution_count": null,
      "outputs": [
        {
          "output_type": "stream",
          "name": "stdout",
          "text": [
            "== Loading Breast Cancer Data ...\n",
            "== [ 569 Instances, 30 Dimensions, 2 classes ]\n",
            "== ===========================================\n",
            "Epoch 0, Loss: 0.6930\n",
            "Epoch 100, Loss: 0.6595\n",
            "Epoch 200, Loss: 0.6567\n",
            "Epoch 300, Loss: 0.6403\n",
            "Epoch 400, Loss: 0.5743\n",
            "Epoch 500, Loss: 0.5271\n",
            "Epoch 600, Loss: 0.4855\n",
            "Epoch 700, Loss: 0.5584\n",
            "Epoch 800, Loss: 0.4230\n",
            "Epoch 900, Loss: 0.3862\n",
            "Accuracy Classic-NN: 0.94\n"
          ]
        }
      ]
    },
    {
      "cell_type": "code",
      "source": [
        "!python PSO-NN.py"
      ],
      "metadata": {
        "colab": {
          "base_uri": "https://localhost:8080/"
        },
        "id": "uSyHDTQ3HY01",
        "outputId": "4b86b29b-911c-4321-ed0a-a283fe201a2a"
      },
      "execution_count": null,
      "outputs": [
        {
          "output_type": "stream",
          "name": "stdout",
          "text": [
            "2024-12-31 15:09:19,333 - numexpr.utils - INFO - NumExpr defaulting to 2 threads.\n",
            "== Loading Breast Cancer Data ...\n",
            "== [ 569 Instances, 30 Dimensions, 2 classes ]\n",
            "== ===========================================\n",
            "############ you are using the following settings:\n",
            "Number hidden layers:  10\n",
            "activation:  <function sigmoid at 0x7c71ecd4e560>\n",
            "Number of variables to optimize:  332\n",
            "PSO parameters C1:  0.5 C2:  0.8 W:  0.7 Swarmsize:  60 Ieteration:  1000\n",
            "\n",
            "\n",
            "/content/project/activations.py:3: RuntimeWarning: overflow encountered in exp\n",
            "  return 1 / (1 + np.exp(-x))\n",
            "Accuracy PSO-NN: 0.93\n"
          ]
        }
      ]
    },
    {
      "cell_type": "code",
      "source": [
        "from commonsetup import *\n",
        "from datasets import *"
      ],
      "metadata": {
        "id": "tywPm9X1UJwD"
      },
      "execution_count": 65,
      "outputs": []
    },
    {
      "cell_type": "code",
      "source": [
        "def load_pen_digits_data():\n",
        "    print(\"== Loading Digits Data ...\")\n",
        "    url = \"https://archive.ics.uci.edu/ml/machine-learning-databases/optdigits/optdigits.tra\"\n",
        "    columns = [f\"feature_{i}\" for i in range(1, 17)] + [\"class\"]\n",
        "    data = pd.read_csv(url, header=None, names=columns)\n",
        "    return build_dataset(data, columns)\n"
      ],
      "metadata": {
        "id": "y0uufE32I0pj"
      },
      "execution_count": 66,
      "outputs": []
    },
    {
      "cell_type": "code",
      "source": [
        "data = load_pen_digits_data()\n"
      ],
      "metadata": {
        "colab": {
          "base_uri": "https://localhost:8080/"
        },
        "id": "JFkTbdJUUMym",
        "outputId": "a043da27-3932-4791-97a7-0e7e34408b65"
      },
      "execution_count": 67,
      "outputs": [
        {
          "output_type": "stream",
          "name": "stdout",
          "text": [
            "== Loading Digits Data ...\n",
            "== [ 3823 Instances, 16 Dimensions, 10 classes ]\n",
            "== ===========================================\n"
          ]
        }
      ]
    },
    {
      "cell_type": "code",
      "source": [
        "!python classic-NN.py\n"
      ],
      "metadata": {
        "colab": {
          "base_uri": "https://localhost:8080/"
        },
        "id": "6cFis3_PUPYe",
        "outputId": "998dec83-8e94-4baf-8164-bf2a06c986ff"
      },
      "execution_count": 68,
      "outputs": [
        {
          "output_type": "stream",
          "name": "stdout",
          "text": [
            "== Loading Breast Cancer Data ...\n",
            "== [ 569 Instances, 30 Dimensions, 2 classes ]\n",
            "== ===========================================\n",
            "Epoch 0, Loss: 0.6909\n",
            "Epoch 100, Loss: 0.6565\n",
            "Epoch 200, Loss: 0.6598\n",
            "Epoch 300, Loss: 0.6361\n",
            "Epoch 400, Loss: 0.6487\n",
            "Epoch 500, Loss: 0.6127\n",
            "Epoch 600, Loss: 0.6347\n",
            "Epoch 700, Loss: 0.5267\n",
            "Epoch 800, Loss: 0.5013\n",
            "Epoch 900, Loss: 0.4800\n",
            "Accuracy Classic-NN: 0.90\n"
          ]
        }
      ]
    },
    {
      "cell_type": "code",
      "source": [
        "!python PSO-NN.py"
      ],
      "metadata": {
        "colab": {
          "base_uri": "https://localhost:8080/"
        },
        "id": "3fiST5PHUZBI",
        "outputId": "d17edd58-aaa6-4172-b82d-7617282108f6"
      },
      "execution_count": 69,
      "outputs": [
        {
          "output_type": "stream",
          "name": "stdout",
          "text": [
            "2024-12-31 15:24:45,765 - numexpr.utils - INFO - NumExpr defaulting to 2 threads.\n",
            "== Loading Breast Cancer Data ...\n",
            "== [ 569 Instances, 30 Dimensions, 2 classes ]\n",
            "== ===========================================\n",
            "############ you are using the following settings:\n",
            "Number hidden layers:  10\n",
            "activation:  <function sigmoid at 0x7e69148b2560>\n",
            "Number of variables to optimize:  332\n",
            "PSO parameters C1:  0.5 C2:  0.8 W:  0.7 Swarmsize:  60 Ieteration:  1000\n",
            "\n",
            "\n",
            "/content/project/activations.py:3: RuntimeWarning: overflow encountered in exp\n",
            "  return 1 / (1 + np.exp(-x))\n",
            "Accuracy PSO-NN: 0.93\n"
          ]
        }
      ]
    },
    {
      "cell_type": "code",
      "source": [
        "def load_magic_gamma_data():\n",
        "    print(\"== Loading Magic Gamma Data ...\")\n",
        "    url = \"https://archive.ics.uci.edu/ml/machine-learning-databases/magic/magic04.data\"\n",
        "    columns = [\"fLength\", \"fWidth\", \"fSize\", \"fConc\", \"fConc1\", \"fAsym\", \"fM3Long\", \"fM3Trans\", \"fAlpha\", \"fDist\", \"class\"]\n",
        "    data = pd.read_csv(url, header=None, names=columns)\n",
        "    return build_dataset(data, columns)"
      ],
      "metadata": {
        "id": "lnExFpLpUb2o"
      },
      "execution_count": 70,
      "outputs": []
    },
    {
      "cell_type": "code",
      "source": [
        "data = load_magic_gamma_data()"
      ],
      "metadata": {
        "colab": {
          "base_uri": "https://localhost:8080/"
        },
        "id": "C7nA8NZjUs0W",
        "outputId": "843e72ea-796f-49fc-8596-0dd5b861b7cc"
      },
      "execution_count": 71,
      "outputs": [
        {
          "output_type": "stream",
          "name": "stdout",
          "text": [
            "== Loading Magic Gamma Data ...\n",
            "== [ 19020 Instances, 10 Dimensions, 2 classes ]\n",
            "== ===========================================\n"
          ]
        }
      ]
    },
    {
      "cell_type": "code",
      "source": [
        "!python classic-NN.py"
      ],
      "metadata": {
        "colab": {
          "base_uri": "https://localhost:8080/"
        },
        "id": "9nICFYCiUuac",
        "outputId": "4e8daa7f-63c6-4132-e625-633fa2bb511e"
      },
      "execution_count": 72,
      "outputs": [
        {
          "output_type": "stream",
          "name": "stdout",
          "text": [
            "== Loading Breast Cancer Data ...\n",
            "== [ 569 Instances, 30 Dimensions, 2 classes ]\n",
            "== ===========================================\n",
            "Epoch 0, Loss: 0.6901\n",
            "Epoch 100, Loss: 0.6594\n",
            "Epoch 200, Loss: 0.6469\n",
            "Epoch 300, Loss: 0.6188\n",
            "Epoch 400, Loss: 0.6234\n",
            "Epoch 500, Loss: 0.5777\n",
            "Epoch 600, Loss: 0.5266\n",
            "Epoch 700, Loss: 0.5076\n",
            "Epoch 800, Loss: 0.5778\n",
            "Epoch 900, Loss: 0.5596\n",
            "Accuracy Classic-NN: 0.94\n"
          ]
        }
      ]
    },
    {
      "cell_type": "code",
      "source": [
        "!python PSO-NN.py"
      ],
      "metadata": {
        "colab": {
          "base_uri": "https://localhost:8080/"
        },
        "id": "_tKfJbNTUv-H",
        "outputId": "14a07a7b-7f37-44cd-910d-654239bf12b7"
      },
      "execution_count": 76,
      "outputs": [
        {
          "output_type": "stream",
          "name": "stdout",
          "text": [
            "2024-12-31 15:29:50,356 - numexpr.utils - INFO - NumExpr defaulting to 2 threads.\n",
            "== Loading Breast Cancer Data ...\n",
            "== [ 569 Instances, 30 Dimensions, 2 classes ]\n",
            "== ===========================================\n",
            "############ you are using the following settings:\n",
            "Number hidden layers:  10\n",
            "activation:  <function sigmoid at 0x780253aae560>\n",
            "Number of variables to optimize:  332\n",
            "PSO parameters C1:  1.0 C2:  1.2 W:  0.6 Swarmsize:  60 Ieteration:  1000\n",
            "\n",
            "\n",
            "/content/project/activations.py:3: RuntimeWarning: overflow encountered in exp\n",
            "  return 1 / (1 + np.exp(-x))\n",
            "Accuracy PSO-NN: 0.93\n"
          ]
        }
      ]
    },
    {
      "cell_type": "code",
      "source": [],
      "metadata": {
        "id": "ytzVG800UyVB"
      },
      "execution_count": null,
      "outputs": []
    }
  ]
}